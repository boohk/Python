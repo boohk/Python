{
 "cells": [
  {
   "cell_type": "markdown",
   "metadata": {},
   "source": [
    "# 파이썬과 MySQL 디비 연동\n",
    "\n",
    "- 주제: MySQL이 제공하는 Python driver를 사용하여 DB Connection을 설정한다.\n",
    "- 작성 날짜: 2018-05-14\n",
    "- 수정 날짜: 2018-05-14\n",
    "- 작성자: 부현경 (hyunkyung.boo@gmail.com)\n",
    "- 참고\n",
    "    - https://dev.mysql.com/doc/connector-python/en/connector-python-example-connecting.html"
   ]
  },
  {
   "cell_type": "markdown",
   "metadata": {},
   "source": [
    "이 코드는 MySQL에 저장된 데이터를 파이썬을 이용하여 불러온 후 엑셀로 데이터를 저장하는 과정으로 구성된다.\n",
    "이 때, 엑셀 저장에는 pandas의 ExcelWriter()함수를 이용하며 저장할 시 열 이름을 지정하기 위해 먼저 DataFrame()를 이용하여 불러온 데이터를 데이터 프레임 형태로 변환한다."
   ]
  },
  {
   "cell_type": "code",
   "execution_count": 1,
   "metadata": {},
   "outputs": [],
   "source": [
    "import mysql.connector\n",
    "from mysql.connector.errors import Error\n",
    "import pandas as pd"
   ]
  },
  {
   "cell_type": "code",
   "execution_count": 2,
   "metadata": {},
   "outputs": [],
   "source": [
    "# 사용자, 비밀번호, 호스트, 포트번호, 연결한 디비 이름을 입력한다.\n",
    "# config를 사용하면 여러개의 DB의 접근이 용이해진다.\n",
    "test_config = {\n",
    "    'user': 'user_name',\n",
    "    'password': 'user_pw',\n",
    "    'host': 'localhost',\n",
    "    'port': 3306,\n",
    "    'database': 'db_name',\n",
    "    'raise_on_warnings': True,\n",
    "    'charset': 'utf8'\n",
    "}"
   ]
  },
  {
   "cell_type": "code",
   "execution_count": 3,
   "metadata": {},
   "outputs": [
    {
     "name": "stdout",
     "output_type": "stream",
     "text": [
      "1045 (28000): Access denied for user 'user_name'@'localhost' (using password: YES)\n"
     ]
    }
   ],
   "source": [
    "# 예외 처리 함수 try ~ except (~ finally)를 사용함\n",
    "try:\n",
    "    \n",
    "    # MySQL Connection 연결\n",
    "    conn = mysql.connector.connect(**test_config)\n",
    "    # Connection 으로부터 Cursor 생성\n",
    "    curs = conn.cursor()\n",
    "    print(\"커넥션 성공!\")\n",
    "\n",
    "    try:\n",
    "        # select문을 사용하여 엑셀로 저장할 데이터를 불러온다.\n",
    "        SQL_select_data = \"select * from db_test.test where col_name_1 != ' ' group by col_name_2) as datatable;\"\n",
    "        # SQL문 실행\n",
    "        curs.execute(SQL_select_data)\n",
    "        rows = curs.fetchall()\n",
    "\n",
    "        reviews = []\n",
    "        for row in rows:\n",
    "            print(row)\n",
    "            reviews.append(row)\n",
    "\n",
    "        print(reviews)\n",
    "\n",
    "    except Error as e:\n",
    "        print(e)\n",
    "\n",
    "    finally:\n",
    "        # Connection 닫기\n",
    "        conn.close()\n",
    "\n",
    "    df = pd.DataFrame(reviews, columns=['idx', 'col_1', 'col_2', 'col_3'])\n",
    "    print(df)\n",
    "    \n",
    "    # 엑셀 파일 저장 경로와 지정할 엑셀 파일 이름\n",
    "    out_path = \"C:\\\\Users\\\\User\\\\Desktop\\\\dataSet.xlsx\"\n",
    "    writer = pd.ExcelWriter(out_path, engine='xlsxwriter')\n",
    "    df.to_excel(writer, sheet_name='Sheet1')\n",
    "    writer.save()\n",
    "\n",
    "except Error as e:\n",
    "    print(e)"
   ]
  },
  {
   "cell_type": "markdown",
   "metadata": {},
   "source": [
    "위의 에러의 경우 사용자 계정에 접근을 하지 못했다는 의미이다. 따라서 사용자에 맞게 커스텀마이징하여 사용해야 한다. ^^"
   ]
  }
 ],
 "metadata": {
  "kernelspec": {
   "display_name": "Python 3",
   "language": "python",
   "name": "python3"
  },
  "language_info": {
   "codemirror_mode": {
    "name": "ipython",
    "version": 3
   },
   "file_extension": ".py",
   "mimetype": "text/x-python",
   "name": "python",
   "nbconvert_exporter": "python",
   "pygments_lexer": "ipython3",
   "version": "3.6.5"
  }
 },
 "nbformat": 4,
 "nbformat_minor": 2
}
