{
 "cells": [
  {
   "cell_type": "markdown",
   "metadata": {},
   "source": [
    "# 유사도 기법\n",
    "- 사용자와 아이템관 관계를 파악하여 사용자 유사도를 계산해본다."
   ]
  },
  {
   "attachments": {},
   "cell_type": "markdown",
   "metadata": {},
   "source": [
    "\n",
    "#### 1. 코사인 유사도\n",
    "코사인 유사도(― 類似度, 영어: cosine similarity)는 내적 공간의 두 벡터간 각도의 코사인 값을 이용하여 측정된 벡터간의 유사한 정도를 의미하며 코사인 유사도는 다차원에도 적용이 가능해 흔히 다차원의 양수 공간에서의 유사도 측정에 자주 이용된다. 그리고 코사인 유사도가 널리 사용되는 이유 중 하나는 이것이 양수 공간이라는 조건만 만족하면 얼마나 많은 차원 공간에서든지 거리를 측정하는 것이 가능하기 때문이다.\n",
    "두 벡터의 코사인 값은 유클리디안 스칼라곱 공식에서 유도할 수 있다.\n",
    "(aㆍb) = ||a||＊||b||＊cos(θ)\n",
    "속성 A, B의 벡터값이 각각 주어졌을 때, 코사인 유사도 cos(θ)는 벡터의 스칼라곱과 크기로 다음과 같이 표현할 수 있다.\n",
    "similarity = cos(θ) = (AㆍB) / (||A||＊||B||)\n",
    "따라서 사용자의 코사인 유사도를 구하기 위해서는 사용자를 행으로 아이템을 열로 두고 사용자별 벡터를 생성해 이용한다.\n",
    "\n",
    "#### 2. 자카드 유사도\n",
    "자카드 유사도는 두 사용자간 아이템 사이의 합집합에 대한 교집합의 비율로 수식은 다음과 같다. \n",
    "J(A,B)=|A∩B||A∪B| (0<= J(A,B) <= 1)\n",
    "코사인 유사도와 마찬가지로 사용자를 행으로 아이템을 열로 사용자별 벡터를 생성한다.\n",
    "\n",
    "#### 참고\n",
    "- http://bab2min.tistory.com/558\n",
    "- http://rstatistics.tistory.com/29\n",
    "- https://grouchy-sms.github.io/2017/09/28/Algorithm/basic/jaccard_similarity/\n",
    "- https://zetawiki.com/wiki/Jaccard_%EC%9C%A0%EC%82%AC%EC%84%B1_%EC%A7%80%EC%88%98\n",
    "- https://code.i-harness.com/ko/q/11921a4\n",
    "- http://www.fun-coding.org/recommend_basic3.html"
   ]
  },
  {
   "cell_type": "markdown",
   "metadata": {},
   "source": [
    "### 0. 데이터\n",
    "다음은 5명의 과일 구매자가 구매한 과일 이력이다. 그렇다면 이 구매한 과일을 이용해 사용자간 유사도를 계산해보자."
   ]
  },
  {
   "cell_type": "code",
   "execution_count": 1,
   "metadata": {},
   "outputs": [],
   "source": [
    "data_dict = {\n",
    "    'A': ['사과', '배', '포도', '복숭아', '수박', '참외'],\n",
    "    'B': ['배', '포도', '수박'],\n",
    "    'C': ['배', '포도', '수박', '오렌지', '자몽'],\n",
    "    'D': ['배', '포도', '자몽'],\n",
    "    'E': ['배', '포도', '수박', '수박', '오렌지', '자몽']\n",
    "}    "
   ]
  },
  {
   "cell_type": "markdown",
   "metadata": {},
   "source": [
    "### 1. 사용자-아이템 행렬 생성하기"
   ]
  },
  {
   "cell_type": "code",
   "execution_count": 2,
   "metadata": {},
   "outputs": [
    {
     "name": "stdout",
     "output_type": "stream",
     "text": [
      "   포도  사과  배  자몽  오렌지  수박  참외  복숭아\n",
      "A   1   1  1   0    0   1   1    1\n",
      "B   1   0  1   0    0   1   0    0\n",
      "C   1   0  1   1    1   1   0    0\n",
      "D   1   0  1   1    0   0   0    0\n",
      "E   1   0  1   1    1   1   0    0\n",
      "[[1 1 1 0 0 1 1 1]\n",
      " [1 0 1 0 0 1 0 0]\n",
      " [1 0 1 1 1 1 0 0]\n",
      " [1 0 1 1 0 0 0 0]\n",
      " [1 0 1 1 1 1 0 0]]\n"
     ]
    }
   ],
   "source": [
    "import pandas as pd\n",
    "import numpy as np\n",
    "\n",
    "# 행 인덱스를 구한다.\n",
    "def getRowIndex(dataType_dict):\n",
    "    rowIndexList = [rowIndex for rowIndex in dataType_dict]\n",
    "    return rowIndexList\n",
    "# print(1, getRowIndex(data_dict))\n",
    "rowIndexList = getRowIndex(data_dict)\n",
    "\n",
    "# 열 인덱스를 구한다.\n",
    "def getColumnIndex(dataType_dict):\n",
    "    columnIndexList = [e for index in getRowIndex(data_dict) for e in dataType_dict[index]]\n",
    "    return list(set(columnIndexList))\n",
    "# print(2, getColumnIndex(data_dict))\n",
    "\n",
    "# 아래와 같이도 열 인덱스를 가지고 올수 있음\n",
    "# def getColumnsIndex(doubled_list):\n",
    "#     ColumnsIndex = [e for list in doubled_list for e in list]\n",
    "#     return list(set(ColumnsIndex))\n",
    "\n",
    "\n",
    "# 사용자-아이템 데이터 프레임 만들기 -> 0, 1로 표현\n",
    "def getUserItemMatrix(dataType_dict):\n",
    "    rowIndexList = getRowIndex(dataType_dict)\n",
    "    columnIndexList = getColumnIndex(dataType_dict)\n",
    "    \n",
    "    user_item_matrix = []\n",
    "    for rowIndex in rowIndexList:\n",
    "        tmp_list = []\n",
    "        for columnIndex in columnIndexList:\n",
    "            # 열 인덱스 값과 같으면 1 아니면 0\n",
    "            tmp_list.append(1) if dataType_dict[rowIndex].count(columnIndex) else tmp_list.append(0)\n",
    "            \n",
    "        user_item_matrix.append(tmp_list)\n",
    "    user_item_matrix_df = pd.DataFrame(user_item_matrix, columns=columnIndexList, index=rowIndexList)\n",
    "    return user_item_matrix_df\n",
    "\n",
    "\n",
    "# 사용자-아이템 데이터 프레임\n",
    "user_item_matrix_df = getUserItemMatrix(data_dict)\n",
    "print(user_item_matrix_df)\n",
    "# 사용자-아이템 데이터 프레임을 행렬로 변환\n",
    "user_item_matrix_matrix = user_item_matrix_df.values\n",
    "print(user_item_matrix_matrix)"
   ]
  },
  {
   "cell_type": "markdown",
   "metadata": {},
   "source": [
    "### 2 코사인 유사도 계산하기"
   ]
  },
  {
   "cell_type": "code",
   "execution_count": 3,
   "metadata": {
    "scrolled": true
   },
   "outputs": [
    {
     "name": "stdout",
     "output_type": "stream",
     "text": [
      "          A         B         C         D         E\n",
      "A  1.000000  0.707107  0.547723  0.471405  0.547723\n",
      "B  0.707107  1.000000  0.774597  0.666667  0.774597\n",
      "C  0.547723  0.774597  1.000000  0.774597  1.000000\n",
      "D  0.471405  0.666667  0.774597  1.000000  0.774597\n",
      "E  0.547723  0.774597  1.000000  0.774597  1.000000\n"
     ]
    }
   ],
   "source": [
    "import math\n",
    "\n",
    "\n",
    "# 소수 4번째 자리에서 반올림하는 함수\n",
    "def setFormat(value):\n",
    "    value =  round(value, 3)\n",
    "    return value\n",
    "# print(setFormat(0.70710678118654757))\n",
    "\n",
    "\n",
    "# 두 벡터의 코사인 유사도를 계산하는 함수\n",
    "def getCosineSimilarity(row1,row2):\n",
    "    vec1 = np.array(row1)\n",
    "    vec2 = np.array(row2)\n",
    "    numerator = np.dot(vec1.T, vec2) # 두 벡터의 내적 값은 분자로\n",
    "    sumSquaredVecElement1 = sum([v1**2 for v1 in vec1])\n",
    "    sumSquaredVecElement2 = sum([v2**2 for v2 in vec2])\n",
    "    denominator = math.sqrt(sumSquaredVecElement1) * math.sqrt(sumSquaredVecElement2) # 각 벡터의 제곱값의 합의 루트의 곱은 분모로\n",
    "    cosineSimilarity = numerator/ denominator\n",
    "    return cosineSimilarity\n",
    "\n",
    "# print(user_item_matrix_matrix[0], user_item_matrix_matrix[1])\n",
    "# print(getCosineSimilarity(user_item_matrix_matrix[0], user_item_matrix_matrix[1]))\n",
    "\n",
    "\n",
    "# 모든 데이터에 대한 사용자별 코사인 유사도 계산 결과로 구성된 행렬을 반환한다.\n",
    "def getCosineSimilarityMatrix(user_item_matrix_df):\n",
    "    user_item_matrix_array = np.array(user_item_matrix_df)\n",
    "    cosineSimilarityMatrix = []\n",
    "    for i in range(len(user_item_matrix_array)):\n",
    "        rowCosineSimilarity = []\n",
    "        for j in range(len(user_item_matrix_array)):\n",
    "            row1 = user_item_matrix_array[i]\n",
    "            row2 = user_item_matrix_array[j]\n",
    "            rowCosineSimilarity.append(getCosineSimilarity(row1,row2)) if i != j else rowCosineSimilarity.append(1)\n",
    "        cosineSimilarityMatrix.append(rowCosineSimilarity)\n",
    "    return cosineSimilarityMatrix\n",
    "\n",
    "cosineSimilarityMatrix = getCosineSimilarityMatrix(user_item_matrix_df)\n",
    "cosineSimilarityMatrix_df = pd.DataFrame(cosineSimilarityMatrix, index=rowIndexList, columns=rowIndexList)\n",
    "print(cosineSimilarityMatrix_df)"
   ]
  },
  {
   "cell_type": "markdown",
   "metadata": {},
   "source": [
    "### 3. 자카드 유사도"
   ]
  },
  {
   "cell_type": "markdown",
   "metadata": {},
   "source": [
    "#### 3-1. 사용자간 아이텐 집합을 이용한  자카드 유사도"
   ]
  },
  {
   "cell_type": "code",
   "execution_count": 4,
   "metadata": {},
   "outputs": [
    {
     "name": "stdout",
     "output_type": "stream",
     "text": [
      "          A    B      C         D      E\n",
      "A  1.000000  0.5  0.375  0.285714  0.375\n",
      "B  0.500000  1.0  0.600  0.500000  0.600\n",
      "C  0.375000  0.6  1.000  0.600000  1.000\n",
      "D  0.285714  0.5  0.600  1.000000  0.600\n",
      "E  0.375000  0.6  1.000  0.600000  1.000\n"
     ]
    }
   ],
   "source": [
    "# a.intersection(b)은 a와 b의 교집합을 구하는 파이썬 내장함수이다. 이를 사용하기 위해서는 리스트형을 집합형(set)으로 변환해야한다.\n",
    "def getJaccardSimilarity(row1, row2):\n",
    "    s_row1 = set(row1)\n",
    "    s_row2 = set(row2)\n",
    "    numerator = s_row1.intersection(s_row2)\n",
    "    denominator = s_row1.union(s_row2)\n",
    "    jaccardSimilarity = len(numerator) / len(denominator)\n",
    "    return jaccardSimilarity\n",
    "\n",
    "\n",
    "def getJaccardSimilarityMatrix(data_dict):\n",
    "    jaccardSimilarityMatrix = []\n",
    "    for i in data_dict:\n",
    "        rowjaccardSimilarity = []\n",
    "        for j in data_dict:\n",
    "            row1 = data_dict[i]\n",
    "            row2 = data_dict[j]\n",
    "            rowjaccardSimilarity.append(getJaccardSimilarity(row1,row2))\n",
    "        jaccardSimilarityMatrix.append(rowjaccardSimilarity)\n",
    "    return jaccardSimilarityMatrix\n",
    "\n",
    "\n",
    "JaccardSimilarityMatrix = getJaccardSimilarityMatrix(data_dict)\n",
    "JaccardSimilarityMatrix_df = pd.DataFrame(JaccardSimilarityMatrix, index=rowIndexList, columns=rowIndexList)\n",
    "print(JaccardSimilarityMatrix_df) "
   ]
  },
  {
   "cell_type": "markdown",
   "metadata": {},
   "source": [
    "#### 3-2. 사용자간 아이템 행렬을 이용해 자카드 유사도를 계산하는 함수"
   ]
  },
  {
   "cell_type": "code",
   "execution_count": 5,
   "metadata": {},
   "outputs": [
    {
     "name": "stdout",
     "output_type": "stream",
     "text": [
      "          A    B      C         D      E\n",
      "A  1.000000  0.5  0.375  0.285714  0.375\n",
      "B  0.500000  1.0  0.600  0.500000  0.600\n",
      "C  0.375000  0.6  1.000  0.600000  1.000\n",
      "D  0.285714  0.5  0.600  1.000000  0.600\n",
      "E  0.375000  0.6  1.000  0.600000  1.000\n"
     ]
    }
   ],
   "source": [
    "# a.intersection(b)은 a와 b의 교집합을 구하는 파이썬 내장함수이다. 이를 사용하기 위해서는 리스트형을 집합형(set)으로 변환해야한다.\n",
    "def getJaccardSimilarity(row1, row2):\n",
    "    interection = 0\n",
    "    union = 0\n",
    "    for x, y in zip(row1, row2):\n",
    "        if x + y == 2:\n",
    "            interection += 1 \n",
    "        if x + y == 2 or x + y != 0:\n",
    "            union += 1\n",
    "    numerator = interection\n",
    "    denominator = union\n",
    "    jaccardSimilarity = numerator / denominator\n",
    "    return jaccardSimilarity\n",
    "\n",
    "\n",
    "def getJaccardSimilarityMatrix(user_item_matrix_df):\n",
    "    user_item_matrix_array = np.array(user_item_matrix_df)\n",
    "    jaccardSimilarityMatrix = []\n",
    "    for i in range(len(user_item_matrix_array)):\n",
    "        rowjaccardSimilarity = []\n",
    "        for j in range(len(user_item_matrix_array)):\n",
    "            row1 = user_item_matrix_array[i]\n",
    "            row2 = user_item_matrix_array[j]\n",
    "            rowjaccardSimilarity.append(getJaccardSimilarity(row1,row2)) if i != j else rowjaccardSimilarity.append(1)\n",
    "        jaccardSimilarityMatrix.append(rowjaccardSimilarity)\n",
    "    return jaccardSimilarityMatrix\n",
    "\n",
    "JaccardSimilarityMatrix = getJaccardSimilarityMatrix(user_item_matrix_df)\n",
    "JaccardSimilarityMatrix_df = pd.DataFrame(JaccardSimilarityMatrix, index=rowIndexList, columns=rowIndexList)\n",
    "print(JaccardSimilarityMatrix_df)"
   ]
  },
  {
   "cell_type": "code",
   "execution_count": 8,
   "metadata": {},
   "outputs": [
    {
     "name": "stdout",
     "output_type": "stream",
     "text": [
      "          A         B         C         D         E\n",
      "A  1.000000  0.707107  0.547723  0.471405  0.547723\n",
      "B  0.707107  1.000000  0.774597  0.666667  0.774597\n",
      "C  0.547723  0.774597  1.000000  0.774597  1.000000\n",
      "D  0.471405  0.666667  0.774597  1.000000  0.774597\n",
      "E  0.547723  0.774597  1.000000  0.774597  1.000000\n",
      "          A    B      C         D      E\n",
      "A  1.000000  0.5  0.375  0.285714  0.375\n",
      "B  0.500000  1.0  0.600  0.500000  0.600\n",
      "C  0.375000  0.6  1.000  0.600000  1.000\n",
      "D  0.285714  0.5  0.600  1.000000  0.600\n",
      "E  0.375000  0.6  1.000  0.600000  1.000\n"
     ]
    }
   ],
   "source": [
    "print(cosineSimilarityMatrix_df)\n",
    "print(JaccardSimilarityMatrix_df)"
   ]
  },
  {
   "cell_type": "markdown",
   "metadata": {},
   "source": [
    "- 코사인 유사도에서는 각각의 사용자와 가장 유사한 상위 사용자 1명은  A - B / B - C&E / C - B&D / D - C & E / E - C\n",
    "- 자카드 유사도에서는 각각의 사용자와 가장 유사한 상위 사용자 1명은  A - B / B - C&E / C - B&D / D - C & E / E - C"
   ]
  }
 ],
 "metadata": {
  "kernelspec": {
   "display_name": "Python 3",
   "language": "python",
   "name": "python3"
  },
  "language_info": {
   "codemirror_mode": {
    "name": "ipython",
    "version": 3
   },
   "file_extension": ".py",
   "mimetype": "text/x-python",
   "name": "python",
   "nbconvert_exporter": "python",
   "pygments_lexer": "ipython3",
   "version": "3.6.5"
  }
 },
 "nbformat": 4,
 "nbformat_minor": 2
}
