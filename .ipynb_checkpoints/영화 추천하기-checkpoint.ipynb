{
 "cells": [
  {
   "cell_type": "markdown",
   "metadata": {},
   "source": [
    "# 사용자 협업 필터링 기반 영화 추천 알고리즘 구현\n",
    "\n",
    "- 데이터: 네이버 영화 평점 데이터로 최소 10개 이상 작성한 사용자의 평가를 사용하였다. "
   ]
  },
  {
   "cell_type": "code",
   "execution_count": 1,
   "metadata": {},
   "outputs": [],
   "source": [
    "import mysql.connector\n",
    "import pandas as pd\n",
    "import numpy as np\n",
    "from ipykernel import kernelapp as app"
   ]
  },
  {
   "cell_type": "code",
   "execution_count": 2,
   "metadata": {},
   "outputs": [],
   "source": [
    "table_config = {\n",
    "    'user': 'root',\n",
    "    'password': '1234',\n",
    "    'host': 'localhost',\n",
    "    'port': 3306,\n",
    "    'database': 'db_test',\n",
    "    'raise_on_warnings': True,\n",
    "    'charset' : 'utf8'\n",
    "}\n",
    "\n",
    "try:\n",
    "    conn = mysql.connector.connect(**table_config)\n",
    "    curs = conn.cursor()\n",
    "\n",
    "    # data_type이'Train'인 경우만 추출한다.\n",
    "    sql_select_data = \"select * from naver_movie_info where movie_score != \\\"\\\"\" \n",
    "    df = pd.read_sql(sql_select_data, con=conn, columns=True)\n",
    "\n",
    "except Exception as e:\n",
    "    print(e)\n",
    "    \n",
    "finally:\n",
    "    conn.close()"
   ]
  },
  {
   "cell_type": "code",
   "execution_count": 3,
   "metadata": {},
   "outputs": [],
   "source": [
    "# 영화 평점으로 데이터 거르기\n",
    "def checkRating(num):\n",
    "    try:\n",
    "        if float(num) >= 0:\n",
    "            num = num\n",
    "    except:\n",
    "        num = np.nan\n",
    "    return num\n",
    "\n",
    "def save_for_backup(df, save_path):\n",
    "    writer = pd.ExcelWriter(save_path)\n",
    "    df.to_excel(writer, 'Sheet1', index=False, header=True)\n",
    "    writer.save()"
   ]
  },
  {
   "cell_type": "code",
   "execution_count": 4,
   "metadata": {
    "scrolled": true
   },
   "outputs": [
    {
     "name": "stdout",
     "output_type": "stream",
     "text": [
      "  movie_score\n",
      "0        8.89\n",
      "1        8.68\n",
      "2        8.52\n",
      "3        8.30\n",
      "4        8.37\n",
      "   idx data_type   post_id   user_id    movie_title  \\\n",
      "0    1     Train  12787780  whit****            신세계   \n",
      "1    2     Train  11932056  free****   무현, 두 도시 이야기   \n",
      "2    3     Train   6134187  4lea****        맨 프럼 어스   \n",
      "3    4     Train  11854913  aris****  특별수사: 사형수의 편지   \n",
      "4    5     Train  13753877  alal****            스크림   \n",
      "\n",
      "                                         user_review  \\\n",
      "0                                 15번 봤어요.볼때마다 잼있어요.   \n",
      "1                                     이것이 우리의 현실 ㅠㅠㅠ   \n",
      "2                               다른 사람들의 평가에 비해 별로네요.   \n",
      "3  구성이나 연출 모두 별로입니다.성동일의 캐릭터는 겉돌고 김명민도 그다지..영뫄보면서...   \n",
      "4                                      지금 다시봐도 멋진 수작   \n",
      "\n",
      "                               tokenized_user_review review_defined_date  \\\n",
      "0                                      번, 보다, 볼때, 재다          2018-06-08   \n",
      "1                                          것, 우리, 현실          2018-06-08   \n",
      "2                              다른, 사람, 평가, 비, 하다, 별로          2018-06-08   \n",
      "3  구성, 연출, 모두, 별로, 이다, 성동일, 캐릭터, 겉, 돌다, 김명민, 그다지,...          2018-06-08   \n",
      "4                                 지금, 다시, 봐, 멋지다, 수작          2018-06-08   \n",
      "\n",
      "  user_rating post_date movie_genre running_time realese_date director  \\\n",
      "0           9  17.07.01     범죄 ,드라마         134분   2013.02.21      박훈정   \n",
      "1          10  16.11.03       다큐멘터리         124분   2016.10.26      전인환   \n",
      "2           1  12.03.10     드라마 ,SF          87분   2015.08.23  리처드 쉔크만   \n",
      "3           1  16.10.09     범죄 ,드라마         120분   2016.06.16      권종관   \n",
      "4          10  18.02.07     공포 ,스릴러         111분   1999.01.16  웨스 크레이븐   \n",
      "\n",
      "                                    actor movie_score  \n",
      "0                           이정재 ,최민식 ,황정민        8.89  \n",
      "1  노무현 ,김원명 ,김하연 ,백승영 ,조덕희 ,박영희 ,장철영 ,윤종훈        8.68  \n",
      "2                  존 빌링슬리 ,엘렌 크로포드 ,윌리엄 캇        8.52  \n",
      "3                 김명민 ,김상호 ,성동일 ,김영애 ,김향기        8.30  \n",
      "4          데이빗 아퀘트 ,니브 캠벨 ,커트니 콕스 ,매튜 릴라드        8.37  \n"
     ]
    }
   ],
   "source": [
    "import copy\n",
    "new_df = copy.deepcopy(df)\n",
    "\n",
    "tmp_df = new_df['movie_score']\n",
    "# print(1, tmp_df.count())\n",
    "# print(1, tmp_df.head(10))\n",
    "index = 0\n",
    "checkRating_list = []\n",
    "for row in tmp_df.iteritems():\n",
    "    checkRating_list.append(checkRating(row[1]))\n",
    "\n",
    "checkRating_df = pd.DataFrame(checkRating_list, columns = ['movie_score'])\n",
    "print(checkRating_df.head(5))\n",
    "new_df['movie_score'] = checkRating_df\n",
    "print(new_df.head(5))"
   ]
  },
  {
   "cell_type": "code",
   "execution_count": 5,
   "metadata": {},
   "outputs": [
    {
     "name": "stdout",
     "output_type": "stream",
     "text": [
      "116779 116626\n"
     ]
    }
   ],
   "source": [
    "data_df = new_df.dropna()\n",
    "print(len(new_df), len(data_df))\n",
    "\n",
    "# 백업용으로 저장하기\n",
    "# save_root = \"D:\\\\추천 알고리즘\\\\\"\n",
    "# save_for_backup(new_df, save_root+\"rawData.xlsx\")\n",
    "# save_for_backup(data_df, save_root+\"definedData.xlsx\")"
   ]
  },
  {
   "cell_type": "code",
   "execution_count": 6,
   "metadata": {},
   "outputs": [],
   "source": [
    "from sklearn.preprocessing import LabelEncoder\n",
    "from sklearn.model_selection import cross_val_score\n",
    "import pickle\n",
    "import random"
   ]
  },
  {
   "cell_type": "code",
   "execution_count": 7,
   "metadata": {},
   "outputs": [
    {
     "data": {
      "text/html": [
       "<div>\n",
       "<style scoped>\n",
       "    .dataframe tbody tr th:only-of-type {\n",
       "        vertical-align: middle;\n",
       "    }\n",
       "\n",
       "    .dataframe tbody tr th {\n",
       "        vertical-align: top;\n",
       "    }\n",
       "\n",
       "    .dataframe thead th {\n",
       "        text-align: right;\n",
       "    }\n",
       "</style>\n",
       "<table border=\"1\" class=\"dataframe\">\n",
       "  <thead>\n",
       "    <tr style=\"text-align: right;\">\n",
       "      <th></th>\n",
       "      <th>user_id</th>\n",
       "      <th>movie_title</th>\n",
       "      <th>movie_genre</th>\n",
       "      <th>user_rating</th>\n",
       "      <th>movie_score</th>\n",
       "      <th>data_type</th>\n",
       "    </tr>\n",
       "  </thead>\n",
       "  <tbody>\n",
       "    <tr>\n",
       "      <th>116774</th>\n",
       "      <td>sptl****</td>\n",
       "      <td>죽여주는 여자</td>\n",
       "      <td>드라마</td>\n",
       "      <td>8</td>\n",
       "      <td>8.71</td>\n",
       "      <td>Test</td>\n",
       "    </tr>\n",
       "    <tr>\n",
       "      <th>116775</th>\n",
       "      <td>potr****</td>\n",
       "      <td>블랙 팬서</td>\n",
       "      <td>액션 ,드라마 ,SF</td>\n",
       "      <td>8</td>\n",
       "      <td>7.51</td>\n",
       "      <td>Test</td>\n",
       "    </tr>\n",
       "    <tr>\n",
       "      <th>116776</th>\n",
       "      <td>dami****</td>\n",
       "      <td>카모메 식당</td>\n",
       "      <td>코미디 ,드라마</td>\n",
       "      <td>7</td>\n",
       "      <td>8.36</td>\n",
       "      <td>Test</td>\n",
       "    </tr>\n",
       "    <tr>\n",
       "      <th>116777</th>\n",
       "      <td>jarl****</td>\n",
       "      <td>레슬러</td>\n",
       "      <td>드라마 ,코미디</td>\n",
       "      <td>6</td>\n",
       "      <td>4.90</td>\n",
       "      <td>Test</td>\n",
       "    </tr>\n",
       "    <tr>\n",
       "      <th>116778</th>\n",
       "      <td>djfi****</td>\n",
       "      <td>공범자들</td>\n",
       "      <td>다큐멘터리</td>\n",
       "      <td>10</td>\n",
       "      <td>9.15</td>\n",
       "      <td>Test</td>\n",
       "    </tr>\n",
       "  </tbody>\n",
       "</table>\n",
       "</div>"
      ],
      "text/plain": [
       "         user_id movie_title  movie_genre user_rating movie_score data_type\n",
       "116774  sptl****     죽여주는 여자          드라마           8        8.71      Test\n",
       "116775  potr****       블랙 팬서  액션 ,드라마 ,SF           8        7.51      Test\n",
       "116776  dami****      카모메 식당     코미디 ,드라마           7        8.36      Test\n",
       "116777  jarl****         레슬러     드라마 ,코미디           6        4.90      Test\n",
       "116778  djfi****        공범자들        다큐멘터리          10        9.15      Test"
      ]
     },
     "execution_count": 7,
     "metadata": {},
     "output_type": "execute_result"
    }
   ],
   "source": [
    "# 사용자 id, 영화제목, 영화 장르, 사용자 평점, 영화 평점만을 이용하여 데이터 셋을 구성한다.\n",
    "# data_set = pd.DataFrame(raw_data, columns=['user', 'title', 'genre', 'score'])\n",
    "data_set = data_df[['user_id', 'movie_title', 'movie_genre', 'user_rating', 'movie_score', 'data_type']]\n",
    "data_set.tail(5)\n",
    "\n",
    "# save_for_backup(data_set, save_root+\"usingData.xlsx\")"
   ]
  },
  {
   "cell_type": "code",
   "execution_count": 8,
   "metadata": {},
   "outputs": [
    {
     "name": "stdout",
     "output_type": "stream",
     "text": [
      "Wall time: 3min 28s\n"
     ]
    }
   ],
   "source": [
    "%%time\n",
    "# 10개 이하의 평가를 받은 영화는 제거한다.\n",
    "def refining_df(raw_df):\n",
    "\n",
    "    title_number_df = raw_df.groupby('movie_title').count().sort_values('user_id')\n",
    "    title_under_10 = title_number_df[title_number_df.user_id <= 10]\n",
    "    title_under_10_list = list(title_under_10.index)\n",
    "\n",
    "    for title in title_under_10_list:\n",
    "        raw_df = raw_df[raw_df['movie_title'] != title]\n",
    "\n",
    "    return raw_df\n",
    "\n",
    "tmp2_df = refining_df(data_set)\n",
    "new_data_set = tmp2_df.reset_index(drop=True)\n",
    "new_data_set.tail(10)"
   ]
  },
  {
   "cell_type": "code",
   "execution_count": 9,
   "metadata": {},
   "outputs": [
    {
     "data": {
      "text/html": [
       "<div>\n",
       "<style scoped>\n",
       "    .dataframe tbody tr th:only-of-type {\n",
       "        vertical-align: middle;\n",
       "    }\n",
       "\n",
       "    .dataframe tbody tr th {\n",
       "        vertical-align: top;\n",
       "    }\n",
       "\n",
       "    .dataframe thead th {\n",
       "        text-align: right;\n",
       "    }\n",
       "</style>\n",
       "<table border=\"1\" class=\"dataframe\">\n",
       "  <thead>\n",
       "    <tr style=\"text-align: right;\">\n",
       "      <th></th>\n",
       "      <th>user_id</th>\n",
       "      <th>movie_title</th>\n",
       "      <th>movie_genre</th>\n",
       "      <th>user_rating</th>\n",
       "      <th>movie_score</th>\n",
       "      <th>data_type</th>\n",
       "    </tr>\n",
       "  </thead>\n",
       "  <tbody>\n",
       "    <tr>\n",
       "      <th>99518</th>\n",
       "      <td>dr12****</td>\n",
       "      <td>지슬</td>\n",
       "      <td>드라마</td>\n",
       "      <td>10</td>\n",
       "      <td>6.18</td>\n",
       "      <td>Test</td>\n",
       "    </tr>\n",
       "    <tr>\n",
       "      <th>99519</th>\n",
       "      <td>maxk****</td>\n",
       "      <td>리턴</td>\n",
       "      <td>스릴러 ,미스터리</td>\n",
       "      <td>10</td>\n",
       "      <td>8.37</td>\n",
       "      <td>Test</td>\n",
       "    </tr>\n",
       "    <tr>\n",
       "      <th>99520</th>\n",
       "      <td>psk1****</td>\n",
       "      <td>곡성(哭聲)</td>\n",
       "      <td>미스터리 ,스릴러 ,드라마</td>\n",
       "      <td>10</td>\n",
       "      <td>7.60</td>\n",
       "      <td>Test</td>\n",
       "    </tr>\n",
       "    <tr>\n",
       "      <th>99521</th>\n",
       "      <td>hidl****</td>\n",
       "      <td>어거스트 러쉬</td>\n",
       "      <td>드라마 ,판타지</td>\n",
       "      <td>9</td>\n",
       "      <td>8.99</td>\n",
       "      <td>Test</td>\n",
       "    </tr>\n",
       "    <tr>\n",
       "      <th>99522</th>\n",
       "      <td>kiki****</td>\n",
       "      <td>다크 나이트 라이즈</td>\n",
       "      <td>액션 ,범죄 ,스릴러</td>\n",
       "      <td>10</td>\n",
       "      <td>9.01</td>\n",
       "      <td>Test</td>\n",
       "    </tr>\n",
       "    <tr>\n",
       "      <th>99523</th>\n",
       "      <td>sptl****</td>\n",
       "      <td>죽여주는 여자</td>\n",
       "      <td>드라마</td>\n",
       "      <td>8</td>\n",
       "      <td>8.71</td>\n",
       "      <td>Test</td>\n",
       "    </tr>\n",
       "    <tr>\n",
       "      <th>99524</th>\n",
       "      <td>potr****</td>\n",
       "      <td>블랙 팬서</td>\n",
       "      <td>액션 ,드라마 ,SF</td>\n",
       "      <td>8</td>\n",
       "      <td>7.51</td>\n",
       "      <td>Test</td>\n",
       "    </tr>\n",
       "    <tr>\n",
       "      <th>99525</th>\n",
       "      <td>dami****</td>\n",
       "      <td>카모메 식당</td>\n",
       "      <td>코미디 ,드라마</td>\n",
       "      <td>7</td>\n",
       "      <td>8.36</td>\n",
       "      <td>Test</td>\n",
       "    </tr>\n",
       "    <tr>\n",
       "      <th>99526</th>\n",
       "      <td>jarl****</td>\n",
       "      <td>레슬러</td>\n",
       "      <td>드라마 ,코미디</td>\n",
       "      <td>6</td>\n",
       "      <td>4.90</td>\n",
       "      <td>Test</td>\n",
       "    </tr>\n",
       "    <tr>\n",
       "      <th>99527</th>\n",
       "      <td>djfi****</td>\n",
       "      <td>공범자들</td>\n",
       "      <td>다큐멘터리</td>\n",
       "      <td>10</td>\n",
       "      <td>9.15</td>\n",
       "      <td>Test</td>\n",
       "    </tr>\n",
       "  </tbody>\n",
       "</table>\n",
       "</div>"
      ],
      "text/plain": [
       "        user_id movie_title     movie_genre user_rating movie_score data_type\n",
       "99518  dr12****          지슬             드라마          10        6.18      Test\n",
       "99519  maxk****          리턴       스릴러 ,미스터리          10        8.37      Test\n",
       "99520  psk1****      곡성(哭聲)  미스터리 ,스릴러 ,드라마          10        7.60      Test\n",
       "99521  hidl****     어거스트 러쉬        드라마 ,판타지           9        8.99      Test\n",
       "99522  kiki****  다크 나이트 라이즈     액션 ,범죄 ,스릴러          10        9.01      Test\n",
       "99523  sptl****     죽여주는 여자             드라마           8        8.71      Test\n",
       "99524  potr****       블랙 팬서     액션 ,드라마 ,SF           8        7.51      Test\n",
       "99525  dami****      카모메 식당        코미디 ,드라마           7        8.36      Test\n",
       "99526  jarl****         레슬러        드라마 ,코미디           6        4.90      Test\n",
       "99527  djfi****        공범자들           다큐멘터리          10        9.15      Test"
      ]
     },
     "execution_count": 9,
     "metadata": {},
     "output_type": "execute_result"
    }
   ],
   "source": []
  },
  {
   "cell_type": "code",
   "execution_count": 14,
   "metadata": {},
   "outputs": [
    {
     "name": "stdout",
     "output_type": "stream",
     "text": [
      "유저의 수는 2320명 이고,\n",
      "영화의 수는 7496개 입니다.\n"
     ]
    }
   ],
   "source": [
    "# 평가 사용자와 영화의 전체 수 확인\n",
    "user_num2 = new_data_set.user_id.unique().shape[0]\n",
    "movie_num2 = new_data_set.movie_title.unique().shape[0]\n",
    "print(\"유저의 수는 {}명 이고,\\n영화의 수는 {}개 입니다.\".format(user_num, movie_num))"
   ]
  },
  {
   "cell_type": "code",
   "execution_count": 17,
   "metadata": {},
   "outputs": [
    {
     "name": "stdout",
     "output_type": "stream",
     "text": [
      "['Malgun Gothic']\n"
     ]
    }
   ],
   "source": [
    "import matplotlib.pyplot as plt\n",
    "import matplotlib as mpl\n",
    "# from matplotlib import font_manager, rc\n",
    "\n",
    "# matplotlib에서 한글 사용\n",
    "mpl.rcParams['axes.unicode_minus'] = False\n",
    "font_name = mpl.font_manager.FontProperties(fname='C:/Windows/Fonts/malgun.ttf').get_name()\n",
    "mpl.rc('font', family=font_name)\n",
    "print (plt.rcParams['font.family'])"
   ]
  },
  {
   "cell_type": "code",
   "execution_count": 20,
   "metadata": {},
   "outputs": [
    {
     "data": {
      "image/png": "[encoded data removed]",
      "text/plain": [
       "<Figure size 720x360 with 1 Axes>"
      ]
     },
     "metadata": {},
     "output_type": "display_data"
    },
    {
     "data": {
      "image/png": "[encoded data removed]",
      "text/plain": [
       "<Figure size 720x360 with 1 Axes>"
      ]
     },
     "metadata": {},
     "output_type": "display_data"
    },
    {
     "data": {
      "image/png": "[encoded data removed]",
      "text/plain": [
       "<Figure size 720x360 with 1 Axes>"
      ]
     },
     "metadata": {},
     "output_type": "display_data"
    }
   ],
   "source": [
    "plt.style.use('ggplot')\n",
    "\n",
    "# 1. 평점을 많이 남긴 상위 10명의 사용자\n",
    "user_top_10 = new_data_set.user_id.value_counts()[:10]\n",
    "user_top_10.plot(kind = 'bar', title = 'User Rank', figsize = (10, 5), legend = True, fontsize = 12)\n",
    "plt.ylabel(\"Number of reviews\", fontsize = 12)\n",
    "plt.show()\n",
    "\n",
    "# 2. 사용자로부터 평점을 많이 받은 상위 10개의 영화\n",
    "movie_top_10 = new_data_set.movie_title.value_counts()[:10]\n",
    "movie_top_10.plot(kind = 'bar', title = 'Movie Rank', figsize = (10, 5), legend = True, fontsize = 12)\n",
    "plt.ylabel(\"Number of reviews\", fontsize = 12)\n",
    "plt.show()\n",
    "\n",
    "# 3. 전체 사용자의 영화 평점 빈도수\n",
    "new_data_set.user_rating.value_counts().plot(kind = 'bar', title = 'Score Rank', figsize = (10, 5), legend = True, fontsize = 12)\n",
    "plt.ylabel(\"Number of Scores\", fontsize = 12)\n",
    "plt.show()"
   ]
  },
  {
   "cell_type": "code",
   "execution_count": null,
   "metadata": {},
   "outputs": [],
   "source": []
  },
  {
   "cell_type": "code",
   "execution_count": null,
   "metadata": {},
   "outputs": [],
   "source": []
  },
  {
   "cell_type": "code",
   "execution_count": null,
   "metadata": {},
   "outputs": [],
   "source": []
  }
 ],
 "metadata": {
  "kernelspec": {
   "display_name": "Python 3",
   "language": "python",
   "name": "python3"
  },
  "language_info": {
   "codemirror_mode": {
    "name": "ipython",
    "version": 3
   },
   "file_extension": ".py",
   "mimetype": "text/x-python",
   "name": "python",
   "nbconvert_exporter": "python",
   "pygments_lexer": "ipython3",
   "version": "3.6.5"
  }
 },
 "nbformat": 4,
 "nbformat_minor": 2
}
