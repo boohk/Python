{
 "cells": [
  {
   "cell_type": "markdown",
   "metadata": {},
   "source": [
    "# Doc2Vec\n",
    "## 2. 코퍼스 생성\n",
    "- 리뷰 데이터 코퍼스 생성 및 결과를 DB에 저장한다."
   ]
  },
  {
   "cell_type": "markdown",
   "metadata": {},
   "source": [
    "#### 2.1 DB에서 데이터 출력하기"
   ]
  },
  {
   "cell_type": "code",
   "execution_count": null,
   "metadata": {},
   "outputs": [],
   "source": [
    "import mysql.connector\n",
    "import pandas as pd"
   ]
  },
  {
   "cell_type": "code",
   "execution_count": null,
   "metadata": {},
   "outputs": [],
   "source": [
    "table_config = {\n",
    "    'user': 'root',\n",
    "    'password': '1234',\n",
    "    'host': 'localhost',\n",
    "    'port': 3306,\n",
    "    'database': 'db_test',\n",
    "    'raise_on_warnings': True,\n",
    "    'charset' : 'utf8'\n",
    "}"
   ]
  },
  {
   "cell_type": "code",
   "execution_count": null,
   "metadata": {},
   "outputs": [],
   "source": [
    "try:\n",
    "    conn = mysql.connector.connect(**table_config)\n",
    "    curs = conn.cursor()\n",
    "    sql_select_data = \"select idx, user_review from naver_movie_info\" \n",
    "    df = pd.read_sql(sql_select_data, con=conn, columns=True)\n",
    "\n",
    "except Exception as e:\n",
    "    print(e)\n",
    "    \n",
    "finally:\n",
    "    conn.close()"
   ]
  },
  {
   "cell_type": "code",
   "execution_count": null,
   "metadata": {},
   "outputs": [],
   "source": [
    "print(df.head(5))"
   ]
  },
  {
   "cell_type": "markdown",
   "metadata": {},
   "source": [
    "#### 2.2 코퍼스 생성하기\n",
    "- 속도가 빠른 Twitter 한글 형태소 분석기를 사용했다."
   ]
  },
  {
   "cell_type": "code",
   "execution_count": null,
   "metadata": {},
   "outputs": [],
   "source": [
    "from konlpy.tag import Twitter"
   ]
  },
  {
   "cell_type": "code",
   "execution_count": null,
   "metadata": {},
   "outputs": [],
   "source": [
    "# 품사 제외하고 리스트화\n",
    "def make_corpus(doc):\n",
    "    tokens = nlp.pos(doc, norm=True, stem=True)\n",
    "    # print(tokens)\n",
    "    token_all = []\n",
    "    for token in tokens:\n",
    "        # 명사/동사/형용사만 저장하기\n",
    "        if token[1] in ['Noun', 'Verb', 'Adjective']:\n",
    "            token_all.append(token[0])\n",
    "    return token_all"
   ]
  },
  {
   "cell_type": "code",
   "execution_count": null,
   "metadata": {},
   "outputs": [],
   "source": [
    "nlp = Twitter()\n",
    "corpus_list = []\n",
    "\n",
    "for review in df['user_review']:\n",
    "    corpus = make_corpus(review)\n",
    "    corpus = ', '.join(corpus)\n",
    "    corpus_list.append(corpus)\n",
    "    \n",
    "df['tokenized_user_review'] = corpus_list"
   ]
  },
  {
   "cell_type": "code",
   "execution_count": null,
   "metadata": {},
   "outputs": [],
   "source": [
    "print(df.head(10))"
   ]
  },
  {
   "cell_type": "markdown",
   "metadata": {},
   "source": [
    "#### 2.3 생성된 코퍼스 저장하기"
   ]
  },
  {
   "cell_type": "code",
   "execution_count": null,
   "metadata": {},
   "outputs": [],
   "source": [
    "try:\n",
    "    conn = mysql.connector.connect(**table_config)\n",
    "    curs = conn.cursor()\n",
    "    \n",
    "    # 1) 생성된 코퍼스를 삽입할 열을 생성한다.\n",
    "    sql_create_col = \"ALTER TABLE naver_movie_info ADD tokenized_user_review mediumtext AFTER user_review\"\n",
    "    curs.execute(sql_create_col)\n",
    "    conn.commit()\n",
    "\n",
    "    # 2) 리뷰를 정제한 날짜를 삽입할 열을 생성한다.\n",
    "    sql_create_col = \"ALTER TABLE naver_movie_info ADD review_defined_date mediumtext AFTER tokenized_user_review\"\n",
    "    curs.execute(sql_create_col)\n",
    "    conn.commit()\n",
    "    \n",
    "except Exception as e:\n",
    "    print(e)\n",
    "    \n",
    "finally:\n",
    "    conn.close()"
   ]
  },
  {
   "cell_type": "code",
   "execution_count": null,
   "metadata": {},
   "outputs": [],
   "source": [
    "import datetime \n",
    "\n",
    "sql_update_data = \"UPDATE naver_movie_info SET tokenized_user_review = %s, review_defined_date = %s where idx = %s\"\n",
    "cnt = 0\n",
    "\n",
    "try:\n",
    "    \n",
    "    conn = mysql.connector.connect(**table_config)\n",
    "    curs = conn.cursor()\n",
    "    nowDate = datetime.datetime.now().strftime('%Y-%m-%d')\n",
    "    \n",
    "    for idx, tokenized_user_review in zip(df['idx'], df['tokenized_user_review']):\n",
    "        review_defined_date = nowDate\n",
    "        values = (tokenized_user_review, review_defined_date, idx)\n",
    "        curs.execute(sql_update_data, values)\n",
    "        # print(values)\n",
    "        cnt = cnt + 1\n",
    "        print(cnt)\n",
    "        \n",
    "        if cnt == 50:\n",
    "            conn.commit()\n",
    "            cnt = 0\n",
    "            \n",
    "    if cnt != 50:\n",
    "        print(cnt)\n",
    "        conn.commit()\n",
    "\n",
    "except Exception as e:\n",
    "    print(e)\n",
    "    \n",
    "finally:\n",
    "    conn.close()    "
   ]
  }
 ],
 "metadata": {
  "kernelspec": {
   "display_name": "Python 3",
   "language": "python",
   "name": "python3"
  },
  "language_info": {
   "codemirror_mode": {
    "name": "ipython",
    "version": 3
   },
   "file_extension": ".py",
   "mimetype": "text/x-python",
   "name": "python",
   "nbconvert_exporter": "python",
   "pygments_lexer": "ipython3",
   "version": "3.6.5"
  }
 },
 "nbformat": 4,
 "nbformat_minor": 2
}
