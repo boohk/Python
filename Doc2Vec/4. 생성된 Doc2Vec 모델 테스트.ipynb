{
 "cells": [
  {
   "cell_type": "markdown",
   "metadata": {},
   "source": [
    "# Doc2Vec\n",
    "## 4. Doc2Vec 모델 비교 (작성중)\n",
    "- 생성된 Doc2Vec 모델을 비교하고 모델 정확도를 확인한다.\n",
    "- 생성된 모델은 총 \n",
    "- 작성 일시: 2018-06-08\n",
    "- 수정 일시: 2018-06-08\n",
    "- 작성자: 부현경 (hyunkyung.boo@gmail.com)"
   ]
  },
  {
   "cell_type": "code",
   "execution_count": null,
   "metadata": {},
   "outputs": [],
   "source": [
    "import os\n",
    "model_path_list = []\n",
    "for (path, dir, files) in os.walk(\"D:\\\\Doc2Vec_model_20180608\"):\n",
    "    for filename in files:\n",
    "        ext = os.path.splitext(filename)[-1]\n",
    "        if ext != '.npy':\n",
    "            model_path_list.append(str(\"%s\\\\%s\" % (path, filename)))"
   ]
  },
  {
   "cell_type": "code",
   "execution_count": null,
   "metadata": {},
   "outputs": [],
   "source": [
    "print(model_path_list)"
   ]
  },
  {
   "cell_type": "code",
   "execution_count": null,
   "metadata": {},
   "outputs": [],
   "source": [
    "from gensim.models.doc2vec import Doc2Vec\n",
    "\n",
    "def load_model(model_path):\n",
    "    model = Doc2Vec.load(model_path)\n",
    "    return model"
   ]
  },
  {
   "cell_type": "code",
   "execution_count": null,
   "metadata": {},
   "outputs": [],
   "source": [
    "load_model(model_path_list[0])"
   ]
  },
  {
   "cell_type": "code",
   "execution_count": null,
   "metadata": {},
   "outputs": [],
   "source": [
    "# 테스트 1 \n",
    "docvec = load_model(model_path_list[0]).docvecs[11]\n",
    "similar_doc1 = load_model(model_path_list[0]).docvecs.most_similar(11)\n",
    "similar_doc2 = load_model(model_path_list[0]).docvecs.most_similar(65808, topn = 100)\n",
    "print(docvec)\n",
    "print(similar_doc1)\n",
    "print(similar_doc2)"
   ]
  },
  {
   "cell_type": "code",
   "execution_count": null,
   "metadata": {},
   "outputs": [],
   "source": [
    "# 테스트 2\n",
    "print(load_model(model_path_list[0]).wv.most_similar('재밌다'))\n",
    "print(load_model(model_path_list[0]).wv.most_similar('영화'))\n",
    "print(load_model(model_path_list[0]).wv.most_similar('네이버'))"
   ]
  }
 ],
 "metadata": {
  "kernelspec": {
   "display_name": "Python 3",
   "language": "python",
   "name": "python3"
  },
  "language_info": {
   "codemirror_mode": {
    "name": "ipython",
    "version": 3
   },
   "file_extension": ".py",
   "mimetype": "text/x-python",
   "name": "python",
   "nbconvert_exporter": "python",
   "pygments_lexer": "ipython3",
   "version": "3.6.5"
  }
 },
 "nbformat": 4,
 "nbformat_minor": 2
}
