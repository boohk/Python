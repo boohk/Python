{
 "cells": [
  {
   "cell_type": "markdown",
   "metadata": {},
   "source": [
    "# 텍스트 데이터 가지고 놀기\n",
    "- 작성 일시: 2018-06-08\n",
    "- 수정 일시: 2018-06-08\n",
    "- 작성자: 부현경 (hyunkyung.boo@gmail.com)"
   ]
  },
  {
   "cell_type": "markdown",
   "metadata": {},
   "source": [
    "#### 1. DB에서 데이터 불러오기"
   ]
  },
  {
   "cell_type": "code",
   "execution_count": 1,
   "metadata": {},
   "outputs": [],
   "source": [
    "import mysql.connector\n",
    "import pandas as pd"
   ]
  },
  {
   "cell_type": "code",
   "execution_count": 2,
   "metadata": {},
   "outputs": [],
   "source": [
    "table_config = {\n",
    "    'user': 'root',\n",
    "    'password': '1234',\n",
    "    'host': 'localhost',\n",
    "    'port': 3306,\n",
    "    'database': 'db_test',\n",
    "    'raise_on_warnings': True,\n",
    "    'charset' : 'utf8'\n",
    "}\n",
    "\n",
    "try:\n",
    "    conn = mysql.connector.connect(**table_config)\n",
    "    curs = conn.cursor()\n",
    "\n",
    "    # data_type이 'Train'이고 tokenized_user_review의 값이 공백이 아닌 경우만 추출한다.\n",
    "    sql_select_data = \"select tokenized_user_review from naver_movie_info where data_type = 'Train' and tokenized_user_review != \\\"\\\"\" \n",
    "    df = pd.read_sql(sql_select_data, con=conn, columns=True)\n",
    "\n",
    "except Exception as e:\n",
    "    print(e)\n",
    "    \n",
    "finally:\n",
    "    conn.close()"
   ]
  },
  {
   "cell_type": "markdown",
   "metadata": {},
   "source": [
    "####  2. 토큰 갯수 세기 및 기타 등등"
   ]
  },
  {
   "cell_type": "code",
   "execution_count": 3,
   "metadata": {},
   "outputs": [
    {
     "name": "stdout",
     "output_type": "stream",
     "text": [
      "t_list, 81343\n",
      "[['다른', '사람', '평가', '비', '하다', '별로'], ['구성', '연출', '모두', '별로', '이다', '성동일', '캐릭터', '겉', '돌다', '김명민', '그다지', '영뫄보면', '내내', '것', '좀', '아니다', '억지', '연출', '너', '많다', '생각', '하다'], ['지금', '다시', '봐', '멋지다', '수작'], ['한번', '웃다', '견디다', '끈', '영화'], ['엑스맨', '팬', '책임감', '고', '득점', '준', '울버린', '독작', '정말', '재미없다', '로건', '도', '너무', '직선', '시나리오', '감흥', '없다', '감독', '누군가', '하다', '더울버린', '딸', '만들다', '불다'], ['년', '덥다', '보다', '기억', '다재', '능', '예술가', '중광', '스님', '타고나다', '연기', '보다', '작품', '중광', '스님', '당시', '광고', '찍다', '유명', '세', '타다', '시절'], ['더럽다', '지루', '재미', '더럽다', '없다', '돈', '돌리다', '놓다'], ['방금', '보고', '하다', '재밌다', '인터넷', '검색', '다하다', '스토리', '너무', '심하다', '탄탄', '캡틴', '로저스', '매력', '흠뻑', '빠지다']]\n",
      "n_t_list, 967424\n"
     ]
    }
   ],
   "source": [
    "import nltk\n",
    "import collections\n",
    "\n",
    "# df에서 바로 가져오면 리스트 형태로 되지 않는다.\n",
    "# 따라서 split 함수를 이용해 토큰을 쪼개야한다.\n",
    "t_list = []\n",
    "for i in df['tokenized_user_review']:\n",
    "    t_list.append(i.split(\", \"))\n",
    "print('t_list,', len(t_list))\n",
    "print(t_list[2:10])\n",
    "\n",
    "# 위 과정에서 토큰을 쪼개서 리스트로 저장했다.\n",
    "# 따라서 중첩 리스트를 하나의 리스트로 합쳐야 한다. (단어 갯수를 세기 위함)\n",
    "n_t_list = []   \n",
    "for i in t_list:\n",
    "    n_t_list += i\n",
    "print('n_t_list,', len(n_t_list))"
   ]
  },
  {
   "cell_type": "code",
   "execution_count": 4,
   "metadata": {},
   "outputs": [
    {
     "ename": "NameError",
     "evalue": "name 'n_t_list1' is not defined",
     "output_type": "error",
     "traceback": [
      "\u001b[1;31m---------------------------------------------------------------------------\u001b[0m",
      "\u001b[1;31mNameError\u001b[0m                                 Traceback (most recent call last)",
      "\u001b[1;32m<ipython-input-4-aecb9b7367f9>\u001b[0m in \u001b[0;36m<module>\u001b[1;34m()\u001b[0m\n\u001b[0;32m      2\u001b[0m \u001b[1;31m# most_common(n)함수는 n의 설정에 따라 내림차순으로 정렬 후 상위 n개를 반환한다.\u001b[0m\u001b[1;33m\u001b[0m\u001b[1;33m\u001b[0m\u001b[0m\n\u001b[0;32m      3\u001b[0m \u001b[1;31m# ex. most_common(100): 가장 많이 등장한 단어(명사) 100개\u001b[0m\u001b[1;33m\u001b[0m\u001b[1;33m\u001b[0m\u001b[0m\n\u001b[1;32m----> 4\u001b[1;33m \u001b[0mcount\u001b[0m \u001b[1;33m=\u001b[0m \u001b[0mcollections\u001b[0m\u001b[1;33m.\u001b[0m\u001b[0mCounter\u001b[0m\u001b[1;33m(\u001b[0m\u001b[0mn_t_list1\u001b[0m\u001b[1;33m)\u001b[0m\u001b[1;33m\u001b[0m\u001b[0m\n\u001b[0m\u001b[0;32m      5\u001b[0m \u001b[0mtags\u001b[0m \u001b[1;33m=\u001b[0m \u001b[0mcount\u001b[0m\u001b[1;33m.\u001b[0m\u001b[0mmost_common\u001b[0m\u001b[1;33m(\u001b[0m\u001b[1;36m100\u001b[0m\u001b[1;33m)\u001b[0m\u001b[1;33m\u001b[0m\u001b[0m\n\u001b[0;32m      6\u001b[0m \u001b[0mprint\u001b[0m\u001b[1;33m(\u001b[0m\u001b[0mtags\u001b[0m\u001b[1;33m)\u001b[0m\u001b[1;33m\u001b[0m\u001b[0m\n",
      "\u001b[1;31mNameError\u001b[0m: name 'n_t_list1' is not defined"
     ]
    }
   ],
   "source": [
    "# collections 패키지의 Counter()를 이용해 단어수를 셀 수 있다.\n",
    "# most_common(n)함수는 n의 설정에 따라 내림차순으로 정렬 후 상위 n개를 반환한다.\n",
    "# ex. most_common(100): 가장 많이 등장한 단어(명사) 100개\n",
    "count = collections.Counter(n_t_list1)\n",
    "tags = count.most_common(100)\n",
    "print(tags)"
   ]
  },
  {
   "cell_type": "code",
   "execution_count": null,
   "metadata": {},
   "outputs": [],
   "source": [
    "# 특정 단어가 포함된 리스트를 반환하는 함수\n",
    "# 이 때, 사용되는 리스트는 df에서 만든 리스트를 사용한다.\n",
    "# 추후 특정 word를 추적하기 위한 기초 테스트.\n",
    "# 무섭다가 포함된 리스트 요소를 반환한다.\n",
    "def getListIncudingKeyword(keyword, DobbledList):\n",
    "    cnt = 0\n",
    "    for list in DobbledList:\n",
    "        if keyword in list:\n",
    "            cnt += 1\n",
    "            print(cnt,\" : \", list)\n",
    "\n",
    "getListIncudingKeyword(\"무섭다\", t_list)"
   ]
  },
  {
   "cell_type": "code",
   "execution_count": null,
   "metadata": {},
   "outputs": [],
   "source": [
    "# 아래는 기초적인 텍스트 데이터 정제에 사용되는 함수 예제이다.\n",
    "# 텍스트 데이터 중복 제거\n",
    "tokens = n_t_list\n",
    "re_tokens = list(set(tokens))\n",
    "print('re_tokens', len(re_tokens))\n",
    "\n",
    "# 1. 1글자 단어 삭제\n",
    "tokens = [n for n in tokens if len(n) > 1]\n",
    "print('tokens,', len(tokens))\n",
    "\n",
    "# 2. 거슬리는 단어도 삭제 (스탑 리스트를 사용)\n",
    "stop_words = ['하다']\n",
    "tokens_using_stop_list = [word for word in n_t_list1 if word not in stop_words]\n",
    "print('tokens_using_stop_list,', len(tokens_using_stop_list))"
   ]
  }
 ],
 "metadata": {
  "kernelspec": {
   "display_name": "Python 3",
   "language": "python",
   "name": "python3"
  },
  "language_info": {
   "codemirror_mode": {
    "name": "ipython",
    "version": 3
   },
   "file_extension": ".py",
   "mimetype": "text/x-python",
   "name": "python",
   "nbconvert_exporter": "python",
   "pygments_lexer": "ipython3",
   "version": "3.6.5"
  }
 },
 "nbformat": 4,
 "nbformat_minor": 2
}
